{
 "cells": [
  {
   "cell_type": "code",
   "execution_count": 1,
   "id": "28f65255",
   "metadata": {},
   "outputs": [
    {
     "name": "stderr",
     "output_type": "stream",
     "text": [
      "c:\\Users\\drago\\Documents\\GitHub\\ML_HW\\Lab_5\\lab_5_venv\\lib\\site-packages\\tqdm\\auto.py:21: TqdmWarning: IProgress not found. Please update jupyter and ipywidgets. See https://ipywidgets.readthedocs.io/en/stable/user_install.html\n",
      "  from .autonotebook import tqdm as notebook_tqdm\n"
     ]
    }
   ],
   "source": [
    "import os\n",
    "import pandas as pd\n",
    "import torch\n",
    "import torch_directml\n",
    "from transformers import RobertaTokenizer, RobertaForSequenceClassification, Trainer, TrainingArguments\n",
    "from sklearn.model_selection import train_test_split\n",
    "from torch.utils.data import Dataset\n",
    "from torch.utils.data import DataLoader\n",
    "import torch.nn.functional as F\n",
    "from tqdm import tqdm\n",
    "from sklearn.metrics import precision_score, recall_score, f1_score\n",
    "import matplotlib.pyplot as plt"
   ]
  },
  {
   "cell_type": "code",
   "execution_count": 6,
   "id": "8a8517ab",
   "metadata": {},
   "outputs": [
    {
     "data": {
      "text/plain": [
       "device(type='privateuseone', index=0)"
      ]
     },
     "execution_count": 6,
     "metadata": {},
     "output_type": "execute_result"
    }
   ],
   "source": [
    "device = torch_directml.device()\n",
    "device"
   ]
  },
  {
   "cell_type": "code",
   "execution_count": 7,
   "id": "b379643c",
   "metadata": {},
   "outputs": [],
   "source": [
    "# Load label mapping\n",
    "label_map = {}\n",
    "with open('data/task2/mapping.txt', 'r') as f:\n",
    "    for line in f:\n",
    "        idx, label = line.strip().split('\\t')\n",
    "        label_map[int(idx)] = label\n",
    "\n",
    "# Load training labels and files\n",
    "train_labels = pd.read_csv('data/task2/train/labels.csv', index_col=0)\n",
    "train_labels['file'] = 'data/task2/train/' + train_labels['file'].astype(str)\n",
    "\n",
    "# Load test files\n",
    "test_files = sorted(['data/task2/test/' + f for f in os.listdir('data/task2/test/') if f.endswith('.txt')])\n",
    "test_df = pd.DataFrame({'file': test_files})\n",
    "\n",
    "# Setup tokenizer\n",
    "tokenizer = RobertaTokenizer.from_pretrained(\"roberta-base\")\n",
    "\n",
    "# Step 3: Load label mapping (optional, useful for later)\n",
    "label_map = {}\n",
    "with open('data/task2/mapping.txt', 'r') as f:\n",
    "    for line in f:\n",
    "        idx, label = line.strip().split('\\t')\n",
    "        label_map[int(idx)] = label\n",
    "\n",
    "# Step 4: Define dataset class\n",
    "tokenizer = RobertaTokenizer.from_pretrained(\"roberta-base\")\n",
    "\n"
   ]
  },
  {
   "cell_type": "code",
   "execution_count": 11,
   "id": "301afe1e",
   "metadata": {},
   "outputs": [],
   "source": [
    "config = {\n",
    "    'batch_size': 8,\n",
    "    'learning_rate': 5e-5,\n",
    "    'epochs': 3,\n",
    "    'max_length': 256,\n",
    "    'early_stop_patience': 3\n",
    "}"
   ]
  },
  {
   "cell_type": "code",
   "execution_count": 21,
   "id": "c3ebc3ab",
   "metadata": {},
   "outputs": [
    {
     "name": "stderr",
     "output_type": "stream",
     "text": [
      "Some weights of RobertaForSequenceClassification were not initialized from the model checkpoint at roberta-base and are newly initialized: ['classifier.dense.bias', 'classifier.dense.weight', 'classifier.out_proj.bias', 'classifier.out_proj.weight']\n",
      "You should probably TRAIN this model on a down-stream task to be able to use it for predictions and inference.\n"
     ]
    }
   ],
   "source": [
    "class TextDataset(Dataset):\n",
    "    def __init__(self, dataframe, tokenizer, is_test=False):\n",
    "        self.tokenizer = tokenizer\n",
    "        self.data = dataframe\n",
    "        self.is_test = is_test\n",
    "\n",
    "    def __len__(self):\n",
    "        return len(self.data)\n",
    "\n",
    "    def __getitem__(self, idx):\n",
    "        file_path = self.data.iloc[idx]['file']\n",
    "        with open(file_path, 'r', encoding='utf-8', errors='ignore') as f:\n",
    "            text = f.read()\n",
    "\n",
    "        encoding = self.tokenizer(\n",
    "            text,\n",
    "            padding='max_length',\n",
    "            truncation=True,\n",
    "            max_length=config['max_length'],\n",
    "            return_tensors='pt'\n",
    "        )\n",
    "\n",
    "        item = {key: val.squeeze(0) for key, val in encoding.items()}\n",
    "\n",
    "        if not self.is_test:\n",
    "            item['labels'] = torch.tensor(int(self.data.iloc[idx]['label']), dtype=torch.long)\n",
    "        else:\n",
    "            item['file'] = file_path\n",
    "\n",
    "        return item\n",
    "    \n",
    "\n",
    "train_dataset = TextDataset(train_labels, tokenizer)\n",
    "test_dataset = TextDataset(test_df, tokenizer, is_test=True)\n",
    "\n",
    "device = torch_directml.device()\n",
    "model = RobertaForSequenceClassification.from_pretrained(\"roberta-base\", num_labels=2)\n",
    "model.to(device)\n",
    "\n",
    "train_loader = DataLoader(train_dataset, batch_size=config['batch_size'], shuffle=True)  # *** CHANGED ***\n",
    "optimizer = torch.optim.AdamW(model.parameters(), lr=config['learning_rate'])           # *** CHANGED ***\n"
   ]
  },
  {
   "cell_type": "code",
   "execution_count": null,
   "id": "cad3ad23",
   "metadata": {},
   "outputs": [
    {
     "name": "stderr",
     "output_type": "stream",
     "text": [
      "Epoch 1:   0%|          | 0/1513 [00:00<?, ?it/s]c:\\Users\\drago\\Documents\\GitHub\\ML_HW\\Lab_5\\lab_5_venv\\lib\\site-packages\\torch\\optim\\adamw.py:529: UserWarning: The operator 'aten::lerp.Scalar_out' is not currently supported on the DML backend and will fall back to run on the CPU. This may have performance implications. (Triggered internally at C:\\__w\\1\\s\\pytorch-directml-plugin\\torch_directml\\csrc\\dml\\dml_cpu_fallback.cpp:17.)\n",
      "  torch._foreach_lerp_(device_exp_avgs, device_grads, 1 - beta1)\n",
      "Epoch 1:  43%|████▎     | 657/1513 [06:57<09:02,  1.58it/s]"
     ]
    }
   ],
   "source": [
    "precisions, recalls, f1s = [], [], []\n",
    "best_f1 = 0.0 \n",
    "epochs_no_improve = 0 \n",
    "\n",
    "\n",
    "for epoch in range(config['epochs']):\n",
    "    model.train()\n",
    "    total_loss = 0\n",
    "    for batch in tqdm(train_loader, desc=f\"Epoch {epoch+1}\"):\n",
    "        input_ids = batch['input_ids'].to(device)\n",
    "        attention_mask = batch['attention_mask'].to(device)\n",
    "        labels = batch['labels'].to(device)\n",
    "\n",
    "        outputs = model(input_ids=input_ids, attention_mask=attention_mask, labels=labels)\n",
    "        loss = outputs.loss\n",
    "\n",
    "        loss.backward()\n",
    "        optimizer.step()\n",
    "        optimizer.zero_grad()\n",
    "\n",
    "        total_loss += loss.item()\n",
    "    print(f\"Epoch {epoch+1} Loss: {total_loss:.4f}\")\n",
    "\n",
    "    \n",
    "    model.eval()\n",
    "    all_preds = []\n",
    "    all_labels = []\n",
    "\n",
    "    with torch.no_grad():\n",
    "        for batch in train_loader:\n",
    "            input_ids = batch['input_ids'].to(device)\n",
    "            attention_mask = batch['attention_mask'].to(device)\n",
    "            labels = batch['labels'].to(device)\n",
    "\n",
    "            outputs = model(input_ids=input_ids, attention_mask=attention_mask)\n",
    "            logits = outputs.logits\n",
    "            preds = torch.argmax(logits, dim=1)\n",
    "\n",
    "            all_preds.extend(preds.cpu().numpy())\n",
    "            all_labels.extend(labels.cpu().numpy())\n",
    "\n",
    "    precision = precision_score(all_labels, all_preds, average='weighted')\n",
    "    recall = recall_score(all_labels, all_preds, average='weighted')\n",
    "    f1 = f1_score(all_labels, all_preds, average='weighted')\n",
    "\n",
    "    precisions.append(precision)\n",
    "    recalls.append(recall)\n",
    "    f1s.append(f1)\n",
    "\n",
    "    print(f\"Epoch {epoch+1} Precision: {precision:.4f}, Recall: {recall:.4f}, F1: {f1:.4f}\")\n",
    "\n",
    "    if f1 > best_f1:\n",
    "        best_f1 = f1\n",
    "        epochs_no_improve = 0\n",
    "        # Save best model state\n",
    "        best_model_state = model.state_dict()\n",
    "    else:\n",
    "        epochs_no_improve += 1\n",
    "        print(f\"No improvement for {epochs_no_improve} epoch(s)\")\n",
    "\n",
    "    if epochs_no_improve >= config['early_stop_patience']:\n",
    "        print(f\"Early stopping triggered after {epoch+1} epochs.\")\n",
    "        break\n",
    "\n",
    "# Load best model state after early stopping\n",
    "model.load_state_dict(best_model_state)\n",
    "print(\"Loaded best model state based on highest F1 score.\")\n"
   ]
  },
  {
   "cell_type": "code",
   "execution_count": null,
   "id": "8d96e296",
   "metadata": {},
   "outputs": [],
   "source": [
    "df_preds = pd.DataFrame({\n",
    "    'label': all_labels,\n",
    "    'prediction': all_preds\n",
    "})\n",
    "df_preds.to_csv('train_predictions.csv', index=False)\n",
    "print(\"Saved predictions and labels to train_predictions.csv\")\n",
    "\n",
    "# *** ADDED: Plot metrics ***\n",
    "plt.plot(range(1, config['epochs'] + 1), precisions, label='Precision')\n",
    "plt.plot(range(1, config['epochs'] + 1), recalls, label='Recall')\n",
    "plt.plot(range(1, config['epochs'] + 1), f1s, label='F1 Score')\n",
    "plt.xlabel('Epoch')\n",
    "plt.ylabel('Score')\n",
    "plt.title('Training Metrics')\n",
    "plt.legend()\n",
    "plt.grid(True)\n",
    "plt.show()"
   ]
  },
  {
   "cell_type": "code",
   "execution_count": null,
   "id": "a651a739",
   "metadata": {},
   "outputs": [
    {
     "name": "stderr",
     "output_type": "stream",
     "text": [
      "Predicting: 100%|██████████| 250/250 [02:16<00:00,  1.84it/s]"
     ]
    },
    {
     "name": "stdout",
     "output_type": "stream",
     "text": [
      "Predictions saved to 'submission.csv'\n"
     ]
    },
    {
     "name": "stderr",
     "output_type": "stream",
     "text": [
      "\n"
     ]
    }
   ],
   "source": [
    "# Set model to evaluation mode\n",
    "model.eval()\n",
    "model.to(device)\n",
    "\n",
    "precisions, recalls, f1s = [], [], []\n",
    "\n",
    "test_loader = DataLoader(test_dataset, batch_size=8)\n",
    "\n",
    "# Collect predictions\n",
    "all_preds = []\n",
    "\n",
    "for batch in tqdm(test_loader, desc=\"Predicting\"):\n",
    "    input_ids = batch['input_ids'].to(device)\n",
    "    attention_mask = batch['attention_mask'].to(device)\n",
    "\n",
    "    with torch.no_grad():\n",
    "        outputs = model(input_ids=input_ids, attention_mask=attention_mask)\n",
    "        preds = torch.argmax(outputs.logits, dim=1)\n",
    "\n",
    "    all_preds.extend(preds.cpu().numpy())\n"
   ]
  },
  {
   "cell_type": "code",
   "execution_count": null,
   "id": "cb4a4588",
   "metadata": {},
   "outputs": [
    {
     "name": "stdout",
     "output_type": "stream",
     "text": [
      "Fixed submission.csv generated!\n"
     ]
    }
   ],
   "source": [
    "submission = pd.DataFrame({\n",
    "    'Id': list(range(len(all_preds))),\n",
    "    'predictions': all_preds\n",
    "})\n",
    "\n",
    "submission.to_csv('submission.csv', index=False)"
   ]
  }
 ],
 "metadata": {
  "kernelspec": {
   "display_name": "lab_5_venv",
   "language": "python",
   "name": "python3"
  },
  "language_info": {
   "codemirror_mode": {
    "name": "ipython",
    "version": 3
   },
   "file_extension": ".py",
   "mimetype": "text/x-python",
   "name": "python",
   "nbconvert_exporter": "python",
   "pygments_lexer": "ipython3",
   "version": "3.10.11"
  }
 },
 "nbformat": 4,
 "nbformat_minor": 5
}
