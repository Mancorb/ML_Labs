{
 "cells": [
  {
   "cell_type": "code",
   "execution_count": 1,
   "id": "28f65255",
   "metadata": {},
   "outputs": [
    {
     "name": "stderr",
     "output_type": "stream",
     "text": [
      "c:\\Users\\drago\\Documents\\GitHub\\ML_HW\\Lab_5\\lab_5_venv\\lib\\site-packages\\tqdm\\auto.py:21: TqdmWarning: IProgress not found. Please update jupyter and ipywidgets. See https://ipywidgets.readthedocs.io/en/stable/user_install.html\n",
      "  from .autonotebook import tqdm as notebook_tqdm\n"
     ]
    }
   ],
   "source": [
    "# Import required libraries\n",
    "import os\n",
    "import pandas as pd\n",
    "import torch\n",
    "from torch.utils.data import Dataset, DataLoader\n",
    "from transformers import RobertaTokenizer, RobertaForSequenceClassification, Trainer, TrainingArguments\n",
    "from sklearn.model_selection import train_test_split\n",
    "from tqdm import tqdm"
   ]
  },
  {
   "cell_type": "code",
   "execution_count": null,
   "id": "386a964c",
   "metadata": {},
   "outputs": [],
   "source": [
    "import torch_directml"
   ]
  },
  {
   "cell_type": "code",
   "execution_count": 2,
   "id": "9bb37a8e",
   "metadata": {},
   "outputs": [
    {
     "name": "stderr",
     "output_type": "stream",
     "text": [
      "Some weights of RobertaForSequenceClassification were not initialized from the model checkpoint at roberta-base and are newly initialized: ['classifier.dense.bias', 'classifier.dense.weight', 'classifier.out_proj.bias', 'classifier.out_proj.weight']\n",
      "You should probably TRAIN this model on a down-stream task to be able to use it for predictions and inference.\n",
      "c:\\Users\\drago\\Documents\\GitHub\\ML_HW\\Lab_5\\lab_5_venv\\lib\\site-packages\\torch\\utils\\data\\dataloader.py:665: UserWarning: 'pin_memory' argument is set as true but no accelerator is found, then device pinned memory won't be used.\n",
      "  warnings.warn(warn_msg)\n"
     ]
    },
    {
     "data": {
      "text/html": [
       "\n",
       "    <div>\n",
       "      \n",
       "      <progress value='45' max='4539' style='width:300px; height:20px; vertical-align: middle;'></progress>\n",
       "      [  45/4539 05:32 < 9:38:39, 0.13 it/s, Epoch 0.03/3]\n",
       "    </div>\n",
       "    <table border=\"1\" class=\"dataframe\">\n",
       "  <thead>\n",
       " <tr style=\"text-align: left;\">\n",
       "      <th>Step</th>\n",
       "      <th>Training Loss</th>\n",
       "    </tr>\n",
       "  </thead>\n",
       "  <tbody>\n",
       "    <tr>\n",
       "      <td>10</td>\n",
       "      <td>0.654400</td>\n",
       "    </tr>\n",
       "    <tr>\n",
       "      <td>20</td>\n",
       "      <td>0.602700</td>\n",
       "    </tr>\n",
       "    <tr>\n",
       "      <td>30</td>\n",
       "      <td>0.610600</td>\n",
       "    </tr>\n",
       "    <tr>\n",
       "      <td>40</td>\n",
       "      <td>0.665300</td>\n",
       "    </tr>\n",
       "  </tbody>\n",
       "</table><p>"
      ],
      "text/plain": [
       "<IPython.core.display.HTML object>"
      ]
     },
     "metadata": {},
     "output_type": "display_data"
    },
    {
     "ename": "KeyboardInterrupt",
     "evalue": "",
     "output_type": "error",
     "traceback": [
      "\u001b[1;31m---------------------------------------------------------------------------\u001b[0m",
      "\u001b[1;31mKeyboardInterrupt\u001b[0m                         Traceback (most recent call last)",
      "Cell \u001b[1;32mIn[2], line 75\u001b[0m\n\u001b[0;32m     68\u001b[0m trainer \u001b[38;5;241m=\u001b[39m Trainer(\n\u001b[0;32m     69\u001b[0m     model\u001b[38;5;241m=\u001b[39mmodel,\n\u001b[0;32m     70\u001b[0m     args\u001b[38;5;241m=\u001b[39mtraining_args,\n\u001b[0;32m     71\u001b[0m     train_dataset\u001b[38;5;241m=\u001b[39mtrain_dataset,\n\u001b[0;32m     72\u001b[0m )\n\u001b[0;32m     74\u001b[0m \u001b[38;5;66;03m# Step 7: Train the model\u001b[39;00m\n\u001b[1;32m---> 75\u001b[0m \u001b[43mtrainer\u001b[49m\u001b[38;5;241;43m.\u001b[39;49m\u001b[43mtrain\u001b[49m\u001b[43m(\u001b[49m\u001b[43m)\u001b[49m\n\u001b[0;32m     77\u001b[0m \u001b[38;5;66;03m# Step 8: Predict on test data\u001b[39;00m\n\u001b[0;32m     78\u001b[0m model\u001b[38;5;241m.\u001b[39meval()\n",
      "File \u001b[1;32mc:\\Users\\drago\\Documents\\GitHub\\ML_HW\\Lab_5\\lab_5_venv\\lib\\site-packages\\transformers\\trainer.py:2240\u001b[0m, in \u001b[0;36mTrainer.train\u001b[1;34m(self, resume_from_checkpoint, trial, ignore_keys_for_eval, **kwargs)\u001b[0m\n\u001b[0;32m   2238\u001b[0m         hf_hub_utils\u001b[38;5;241m.\u001b[39menable_progress_bars()\n\u001b[0;32m   2239\u001b[0m \u001b[38;5;28;01melse\u001b[39;00m:\n\u001b[1;32m-> 2240\u001b[0m     \u001b[38;5;28;01mreturn\u001b[39;00m \u001b[43minner_training_loop\u001b[49m\u001b[43m(\u001b[49m\n\u001b[0;32m   2241\u001b[0m \u001b[43m        \u001b[49m\u001b[43margs\u001b[49m\u001b[38;5;241;43m=\u001b[39;49m\u001b[43margs\u001b[49m\u001b[43m,\u001b[49m\n\u001b[0;32m   2242\u001b[0m \u001b[43m        \u001b[49m\u001b[43mresume_from_checkpoint\u001b[49m\u001b[38;5;241;43m=\u001b[39;49m\u001b[43mresume_from_checkpoint\u001b[49m\u001b[43m,\u001b[49m\n\u001b[0;32m   2243\u001b[0m \u001b[43m        \u001b[49m\u001b[43mtrial\u001b[49m\u001b[38;5;241;43m=\u001b[39;49m\u001b[43mtrial\u001b[49m\u001b[43m,\u001b[49m\n\u001b[0;32m   2244\u001b[0m \u001b[43m        \u001b[49m\u001b[43mignore_keys_for_eval\u001b[49m\u001b[38;5;241;43m=\u001b[39;49m\u001b[43mignore_keys_for_eval\u001b[49m\u001b[43m,\u001b[49m\n\u001b[0;32m   2245\u001b[0m \u001b[43m    \u001b[49m\u001b[43m)\u001b[49m\n",
      "File \u001b[1;32mc:\\Users\\drago\\Documents\\GitHub\\ML_HW\\Lab_5\\lab_5_venv\\lib\\site-packages\\transformers\\trainer.py:2555\u001b[0m, in \u001b[0;36mTrainer._inner_training_loop\u001b[1;34m(self, batch_size, args, resume_from_checkpoint, trial, ignore_keys_for_eval)\u001b[0m\n\u001b[0;32m   2548\u001b[0m context \u001b[38;5;241m=\u001b[39m (\n\u001b[0;32m   2549\u001b[0m     functools\u001b[38;5;241m.\u001b[39mpartial(\u001b[38;5;28mself\u001b[39m\u001b[38;5;241m.\u001b[39maccelerator\u001b[38;5;241m.\u001b[39mno_sync, model\u001b[38;5;241m=\u001b[39mmodel)\n\u001b[0;32m   2550\u001b[0m     \u001b[38;5;28;01mif\u001b[39;00m i \u001b[38;5;241m!=\u001b[39m \u001b[38;5;28mlen\u001b[39m(batch_samples) \u001b[38;5;241m-\u001b[39m \u001b[38;5;241m1\u001b[39m\n\u001b[0;32m   2551\u001b[0m     \u001b[38;5;129;01mand\u001b[39;00m \u001b[38;5;28mself\u001b[39m\u001b[38;5;241m.\u001b[39maccelerator\u001b[38;5;241m.\u001b[39mdistributed_type \u001b[38;5;241m!=\u001b[39m DistributedType\u001b[38;5;241m.\u001b[39mDEEPSPEED\n\u001b[0;32m   2552\u001b[0m     \u001b[38;5;28;01melse\u001b[39;00m contextlib\u001b[38;5;241m.\u001b[39mnullcontext\n\u001b[0;32m   2553\u001b[0m )\n\u001b[0;32m   2554\u001b[0m \u001b[38;5;28;01mwith\u001b[39;00m context():\n\u001b[1;32m-> 2555\u001b[0m     tr_loss_step \u001b[38;5;241m=\u001b[39m \u001b[38;5;28;43mself\u001b[39;49m\u001b[38;5;241;43m.\u001b[39;49m\u001b[43mtraining_step\u001b[49m\u001b[43m(\u001b[49m\u001b[43mmodel\u001b[49m\u001b[43m,\u001b[49m\u001b[43m \u001b[49m\u001b[43minputs\u001b[49m\u001b[43m,\u001b[49m\u001b[43m \u001b[49m\u001b[43mnum_items_in_batch\u001b[49m\u001b[43m)\u001b[49m\n\u001b[0;32m   2557\u001b[0m \u001b[38;5;28;01mif\u001b[39;00m (\n\u001b[0;32m   2558\u001b[0m     args\u001b[38;5;241m.\u001b[39mlogging_nan_inf_filter\n\u001b[0;32m   2559\u001b[0m     \u001b[38;5;129;01mand\u001b[39;00m \u001b[38;5;129;01mnot\u001b[39;00m is_torch_xla_available()\n\u001b[0;32m   2560\u001b[0m     \u001b[38;5;129;01mand\u001b[39;00m (torch\u001b[38;5;241m.\u001b[39misnan(tr_loss_step) \u001b[38;5;129;01mor\u001b[39;00m torch\u001b[38;5;241m.\u001b[39misinf(tr_loss_step))\n\u001b[0;32m   2561\u001b[0m ):\n\u001b[0;32m   2562\u001b[0m     \u001b[38;5;66;03m# if loss is nan or inf simply add the average of previous logged losses\u001b[39;00m\n\u001b[0;32m   2563\u001b[0m     tr_loss \u001b[38;5;241m=\u001b[39m tr_loss \u001b[38;5;241m+\u001b[39m tr_loss \u001b[38;5;241m/\u001b[39m (\u001b[38;5;241m1\u001b[39m \u001b[38;5;241m+\u001b[39m \u001b[38;5;28mself\u001b[39m\u001b[38;5;241m.\u001b[39mstate\u001b[38;5;241m.\u001b[39mglobal_step \u001b[38;5;241m-\u001b[39m \u001b[38;5;28mself\u001b[39m\u001b[38;5;241m.\u001b[39m_globalstep_last_logged)\n",
      "File \u001b[1;32mc:\\Users\\drago\\Documents\\GitHub\\ML_HW\\Lab_5\\lab_5_venv\\lib\\site-packages\\transformers\\trainer.py:3791\u001b[0m, in \u001b[0;36mTrainer.training_step\u001b[1;34m(***failed resolving arguments***)\u001b[0m\n\u001b[0;32m   3788\u001b[0m \u001b[38;5;28;01mif\u001b[39;00m \u001b[38;5;28mself\u001b[39m\u001b[38;5;241m.\u001b[39maccelerator\u001b[38;5;241m.\u001b[39mdistributed_type \u001b[38;5;241m==\u001b[39m DistributedType\u001b[38;5;241m.\u001b[39mDEEPSPEED:\n\u001b[0;32m   3789\u001b[0m     kwargs[\u001b[38;5;124m\"\u001b[39m\u001b[38;5;124mscale_wrt_gas\u001b[39m\u001b[38;5;124m\"\u001b[39m] \u001b[38;5;241m=\u001b[39m \u001b[38;5;28;01mFalse\u001b[39;00m\n\u001b[1;32m-> 3791\u001b[0m \u001b[38;5;28mself\u001b[39m\u001b[38;5;241m.\u001b[39maccelerator\u001b[38;5;241m.\u001b[39mbackward(loss, \u001b[38;5;241m*\u001b[39m\u001b[38;5;241m*\u001b[39mkwargs)\n\u001b[0;32m   3793\u001b[0m \u001b[38;5;28;01mreturn\u001b[39;00m loss\u001b[38;5;241m.\u001b[39mdetach()\n",
      "File \u001b[1;32mc:\\Users\\drago\\Documents\\GitHub\\ML_HW\\Lab_5\\lab_5_venv\\lib\\site-packages\\accelerate\\accelerator.py:2473\u001b[0m, in \u001b[0;36mAccelerator.backward\u001b[1;34m(self, loss, **kwargs)\u001b[0m\n\u001b[0;32m   2471\u001b[0m     \u001b[38;5;28mself\u001b[39m\u001b[38;5;241m.\u001b[39mlomo_backward(loss, learning_rate)\n\u001b[0;32m   2472\u001b[0m \u001b[38;5;28;01melse\u001b[39;00m:\n\u001b[1;32m-> 2473\u001b[0m     loss\u001b[38;5;241m.\u001b[39mbackward(\u001b[38;5;241m*\u001b[39m\u001b[38;5;241m*\u001b[39mkwargs)\n",
      "File \u001b[1;32mc:\\Users\\drago\\Documents\\GitHub\\ML_HW\\Lab_5\\lab_5_venv\\lib\\site-packages\\torch\\_tensor.py:648\u001b[0m, in \u001b[0;36mbackward\u001b[1;34m(self, gradient, retain_graph, create_graph, inputs)\u001b[0m\n\u001b[0;32m    629\u001b[0m \u001b[38;5;28;01mdef\u001b[39;00m\u001b[38;5;250m \u001b[39m\u001b[38;5;21mtrim\u001b[39m(\u001b[38;5;28mstr\u001b[39m):\n\u001b[0;32m    630\u001b[0m     \u001b[38;5;28;01mreturn\u001b[39;00m \u001b[38;5;124m\"\u001b[39m\u001b[38;5;130;01m\\n\u001b[39;00m\u001b[38;5;124m\"\u001b[39m\u001b[38;5;241m.\u001b[39mjoin([line\u001b[38;5;241m.\u001b[39mstrip() \u001b[38;5;28;01mfor\u001b[39;00m line \u001b[38;5;129;01min\u001b[39;00m \u001b[38;5;28mstr\u001b[39m\u001b[38;5;241m.\u001b[39msplit(\u001b[38;5;124m\"\u001b[39m\u001b[38;5;130;01m\\n\u001b[39;00m\u001b[38;5;124m\"\u001b[39m)])\n\u001b[0;32m    632\u001b[0m \u001b[38;5;28;01mraise\u001b[39;00m \u001b[38;5;167;01mRuntimeError\u001b[39;00m(\n\u001b[0;32m    633\u001b[0m     trim(\n\u001b[0;32m    634\u001b[0m \u001b[38;5;250m        \u001b[39m\u001b[38;5;124mr\u001b[39m\u001b[38;5;124;03m\"\"\"reinforce() was removed.\u001b[39;00m\n\u001b[0;32m    635\u001b[0m \u001b[38;5;124;03m    Use torch.distributions instead.\u001b[39;00m\n\u001b[0;32m    636\u001b[0m \u001b[38;5;124;03m    See https://pytorch.org/docs/main/distributions.html\u001b[39;00m\n\u001b[0;32m    637\u001b[0m \n\u001b[0;32m    638\u001b[0m \u001b[38;5;124;03m    Instead of:\u001b[39;00m\n\u001b[0;32m    639\u001b[0m \n\u001b[0;32m    640\u001b[0m \u001b[38;5;124;03m    probs = policy_network(state)\u001b[39;00m\n\u001b[0;32m    641\u001b[0m \u001b[38;5;124;03m    action = probs.multinomial()\u001b[39;00m\n\u001b[0;32m    642\u001b[0m \u001b[38;5;124;03m    next_state, reward = env.step(action)\u001b[39;00m\n\u001b[0;32m    643\u001b[0m \u001b[38;5;124;03m    action.reinforce(reward)\u001b[39;00m\n\u001b[0;32m    644\u001b[0m \u001b[38;5;124;03m    action.backward()\u001b[39;00m\n\u001b[0;32m    645\u001b[0m \n\u001b[0;32m    646\u001b[0m \u001b[38;5;124;03m    Use:\u001b[39;00m\n\u001b[0;32m    647\u001b[0m \n\u001b[1;32m--> 648\u001b[0m \u001b[38;5;124;03m    probs = policy_network(state)\u001b[39;00m\n\u001b[0;32m    649\u001b[0m \u001b[38;5;124;03m    # NOTE: categorical is equivalent to what used to be called multinomial\u001b[39;00m\n\u001b[0;32m    650\u001b[0m \u001b[38;5;124;03m    m = torch.distributions.Categorical(probs)\u001b[39;00m\n\u001b[0;32m    651\u001b[0m \u001b[38;5;124;03m    action = m.sample()\u001b[39;00m\n\u001b[0;32m    652\u001b[0m \u001b[38;5;124;03m    next_state, reward = env.step(action)\u001b[39;00m\n\u001b[0;32m    653\u001b[0m \u001b[38;5;124;03m    loss = -m.log_prob(action) * reward\u001b[39;00m\n\u001b[0;32m    654\u001b[0m \u001b[38;5;124;03m    loss.backward()\u001b[39;00m\n\u001b[0;32m    655\u001b[0m \u001b[38;5;124;03m\"\"\"\u001b[39;00m\n\u001b[0;32m    656\u001b[0m     )\n\u001b[0;32m    657\u001b[0m )\n",
      "File \u001b[1;32mc:\\Users\\drago\\Documents\\GitHub\\ML_HW\\Lab_5\\lab_5_venv\\lib\\site-packages\\torch\\autograd\\__init__.py:353\u001b[0m, in \u001b[0;36mbackward\u001b[1;34m(tensors, grad_tensors, retain_graph, create_graph, grad_variables, inputs)\u001b[0m\n\u001b[0;32m    300\u001b[0m \u001b[38;5;28;01mdef\u001b[39;00m\u001b[38;5;250m \u001b[39m\u001b[38;5;21mgrad\u001b[39m(\n\u001b[0;32m    301\u001b[0m     outputs: _TensorOrTensors,\n\u001b[0;32m    302\u001b[0m     inputs: _TensorOrTensorsOrGradEdge,\n\u001b[1;32m   (...)\u001b[0m\n\u001b[0;32m    309\u001b[0m     materialize_grads: \u001b[38;5;28mbool\u001b[39m \u001b[38;5;241m=\u001b[39m \u001b[38;5;28;01mFalse\u001b[39;00m,\n\u001b[0;32m    310\u001b[0m ) \u001b[38;5;241m-\u001b[39m\u001b[38;5;241m>\u001b[39m Tuple[torch\u001b[38;5;241m.\u001b[39mTensor, \u001b[38;5;241m.\u001b[39m\u001b[38;5;241m.\u001b[39m\u001b[38;5;241m.\u001b[39m]:\n\u001b[0;32m    311\u001b[0m \u001b[38;5;250m    \u001b[39m\u001b[38;5;124mr\u001b[39m\u001b[38;5;124;03m\"\"\"Computes and returns the sum of gradients of outputs with respect to\u001b[39;00m\n\u001b[0;32m    312\u001b[0m \u001b[38;5;124;03m    the inputs.\u001b[39;00m\n\u001b[0;32m    313\u001b[0m \n\u001b[0;32m    314\u001b[0m \u001b[38;5;124;03m    ``grad_outputs`` should be a sequence of length matching ``output``\u001b[39;00m\n\u001b[0;32m    315\u001b[0m \u001b[38;5;124;03m    containing the \"vector\" in vector-Jacobian product, usually the pre-computed\u001b[39;00m\n\u001b[0;32m    316\u001b[0m \u001b[38;5;124;03m    gradients w.r.t. each of the outputs. If an output doesn't require_grad,\u001b[39;00m\n\u001b[0;32m    317\u001b[0m \u001b[38;5;124;03m    then the gradient can be ``None``).\u001b[39;00m\n\u001b[0;32m    318\u001b[0m \n\u001b[0;32m    319\u001b[0m \u001b[38;5;124;03m    .. note::\u001b[39;00m\n\u001b[0;32m    320\u001b[0m \n\u001b[0;32m    321\u001b[0m \u001b[38;5;124;03m        If you run any forward ops, create ``grad_outputs``, and/or call ``grad``\u001b[39;00m\n\u001b[0;32m    322\u001b[0m \u001b[38;5;124;03m        in a user-specified CUDA stream context, see\u001b[39;00m\n\u001b[0;32m    323\u001b[0m \u001b[38;5;124;03m        :ref:`Stream semantics of backward passes<bwd-cuda-stream-semantics>`.\u001b[39;00m\n\u001b[0;32m    324\u001b[0m \n\u001b[0;32m    325\u001b[0m \u001b[38;5;124;03m    .. note::\u001b[39;00m\n\u001b[0;32m    326\u001b[0m \n\u001b[0;32m    327\u001b[0m \u001b[38;5;124;03m        ``only_inputs`` argument is deprecated and is ignored now (defaults to ``True``).\u001b[39;00m\n\u001b[0;32m    328\u001b[0m \u001b[38;5;124;03m        To accumulate gradient for other parts of the graph, please use\u001b[39;00m\n\u001b[0;32m    329\u001b[0m \u001b[38;5;124;03m        ``torch.autograd.backward``.\u001b[39;00m\n\u001b[0;32m    330\u001b[0m \n\u001b[0;32m    331\u001b[0m \u001b[38;5;124;03m    Args:\u001b[39;00m\n\u001b[0;32m    332\u001b[0m \u001b[38;5;124;03m        outputs (sequence of Tensor): outputs of the differentiated function.\u001b[39;00m\n\u001b[0;32m    333\u001b[0m \u001b[38;5;124;03m        inputs (sequence of Tensor or GradientEdge): Inputs w.r.t. which the gradient will be\u001b[39;00m\n\u001b[0;32m    334\u001b[0m \u001b[38;5;124;03m            returned (and not accumulated into ``.grad``).\u001b[39;00m\n\u001b[0;32m    335\u001b[0m \u001b[38;5;124;03m        grad_outputs (sequence of Tensor): The \"vector\" in the vector-Jacobian product.\u001b[39;00m\n\u001b[0;32m    336\u001b[0m \u001b[38;5;124;03m            Usually gradients w.r.t. each output. None values can be specified for scalar\u001b[39;00m\n\u001b[0;32m    337\u001b[0m \u001b[38;5;124;03m            Tensors or ones that don't require grad. If a None value would be acceptable\u001b[39;00m\n\u001b[0;32m    338\u001b[0m \u001b[38;5;124;03m            for all grad_tensors, then this argument is optional. Default: None.\u001b[39;00m\n\u001b[0;32m    339\u001b[0m \u001b[38;5;124;03m        retain_graph (bool, optional): If ``False``, the graph used to compute the grad\u001b[39;00m\n\u001b[0;32m    340\u001b[0m \u001b[38;5;124;03m            will be freed. Note that in nearly all cases setting this option to ``True``\u001b[39;00m\n\u001b[0;32m    341\u001b[0m \u001b[38;5;124;03m            is not needed and often can be worked around in a much more efficient\u001b[39;00m\n\u001b[0;32m    342\u001b[0m \u001b[38;5;124;03m            way. Defaults to the value of ``create_graph``.\u001b[39;00m\n\u001b[0;32m    343\u001b[0m \u001b[38;5;124;03m        create_graph (bool, optional): If ``True``, graph of the derivative will\u001b[39;00m\n\u001b[0;32m    344\u001b[0m \u001b[38;5;124;03m            be constructed, allowing to compute higher order derivative products.\u001b[39;00m\n\u001b[0;32m    345\u001b[0m \u001b[38;5;124;03m            Default: ``False``.\u001b[39;00m\n\u001b[0;32m    346\u001b[0m \u001b[38;5;124;03m        allow_unused (Optional[bool], optional): If ``False``, specifying inputs\u001b[39;00m\n\u001b[0;32m    347\u001b[0m \u001b[38;5;124;03m            that were not used when computing outputs (and therefore their grad is\u001b[39;00m\n\u001b[0;32m    348\u001b[0m \u001b[38;5;124;03m            always zero) is an error. Defaults to the value of ``materialize_grads``.\u001b[39;00m\n\u001b[0;32m    349\u001b[0m \u001b[38;5;124;03m        is_grads_batched (bool, optional): If ``True``, the first dimension of each\u001b[39;00m\n\u001b[0;32m    350\u001b[0m \u001b[38;5;124;03m            tensor in ``grad_outputs`` will be interpreted as the batch dimension.\u001b[39;00m\n\u001b[0;32m    351\u001b[0m \u001b[38;5;124;03m            Instead of computing a single vector-Jacobian product, we compute a\u001b[39;00m\n\u001b[0;32m    352\u001b[0m \u001b[38;5;124;03m            batch of vector-Jacobian products for each \"vector\" in the batch.\u001b[39;00m\n\u001b[1;32m--> 353\u001b[0m \u001b[38;5;124;03m            We use the vmap prototype feature as the backend to vectorize calls\u001b[39;00m\n\u001b[0;32m    354\u001b[0m \u001b[38;5;124;03m            to the autograd engine so that this computation can be performed in a\u001b[39;00m\n\u001b[0;32m    355\u001b[0m \u001b[38;5;124;03m            single call. This should lead to performance improvements when compared\u001b[39;00m\n\u001b[0;32m    356\u001b[0m \u001b[38;5;124;03m            to manually looping and performing backward multiple times. Note that\u001b[39;00m\n\u001b[0;32m    357\u001b[0m \u001b[38;5;124;03m            due to this feature being experimental, there may be performance\u001b[39;00m\n\u001b[0;32m    358\u001b[0m \u001b[38;5;124;03m            cliffs. Please use ``torch._C._debug_only_display_vmap_fallback_warnings(True)``\u001b[39;00m\n\u001b[0;32m    359\u001b[0m \u001b[38;5;124;03m            to show any performance warnings and file an issue on github if warnings exist\u001b[39;00m\n\u001b[0;32m    360\u001b[0m \u001b[38;5;124;03m            for your use case. Defaults to ``False``.\u001b[39;00m\n\u001b[0;32m    361\u001b[0m \u001b[38;5;124;03m        materialize_grads (bool, optional): If ``True``, set the gradient for unused inputs\u001b[39;00m\n\u001b[0;32m    362\u001b[0m \u001b[38;5;124;03m            to zero instead of None. This is useful when computing higher-order derivatives.\u001b[39;00m\n\u001b[0;32m    363\u001b[0m \u001b[38;5;124;03m            If ``materialize_grads`` is ``True`` and ``allow_unused`` is ``False``, an error\u001b[39;00m\n\u001b[0;32m    364\u001b[0m \u001b[38;5;124;03m            will be raised. Defaults to ``False``.\u001b[39;00m\n\u001b[0;32m    365\u001b[0m \n\u001b[0;32m    366\u001b[0m \u001b[38;5;124;03m    \"\"\"\u001b[39;00m\n\u001b[0;32m    367\u001b[0m     \u001b[38;5;28;01mif\u001b[39;00m materialize_grads \u001b[38;5;129;01mand\u001b[39;00m allow_unused \u001b[38;5;129;01mis\u001b[39;00m \u001b[38;5;28;01mFalse\u001b[39;00m:\n\u001b[0;32m    368\u001b[0m         \u001b[38;5;28;01mraise\u001b[39;00m \u001b[38;5;167;01mValueError\u001b[39;00m(\n\u001b[0;32m    369\u001b[0m             \u001b[38;5;124m\"\u001b[39m\u001b[38;5;124mExpected allow_unused to be True or not passed when materialize_grads=True, \u001b[39m\u001b[38;5;124m\"\u001b[39m\n\u001b[0;32m    370\u001b[0m             \u001b[38;5;124m\"\u001b[39m\u001b[38;5;124mbut got: allow_unused=False.\u001b[39m\u001b[38;5;124m\"\u001b[39m\n\u001b[0;32m    371\u001b[0m         )\n",
      "File \u001b[1;32mc:\\Users\\drago\\Documents\\GitHub\\ML_HW\\Lab_5\\lab_5_venv\\lib\\site-packages\\torch\\autograd\\graph.py:824\u001b[0m, in \u001b[0;36m_engine_run_backward\u001b[1;34m(t_outputs, *args, **kwargs)\u001b[0m\n\u001b[0;32m      0\u001b[0m <Error retrieving source code with stack_data see ipython/ipython#13598>\n",
      "\u001b[1;31mKeyboardInterrupt\u001b[0m: "
     ]
    }
   ],
   "source": [
    "# Step 1: Load and prepare training data\n",
    "train_labels = pd.read_csv('./data/task2/train/labels.csv', index_col=0)\n",
    "train_labels['file'] = './data/task2/train/' + train_labels['file'].astype(str)\n",
    "\n",
    "# Step 2: Load test file paths\n",
    "test_files = sorted(['./data/task2/test/' + f for f in os.listdir('./data/task2/test/') if f.endswith('.txt')])\n",
    "test_df = pd.DataFrame({'file': test_files})\n",
    "\n",
    "# Step 3: Load label mapping (optional, useful for later)\n",
    "label_map = {}\n",
    "with open('data/task2/mapping.txt', 'r') as f:\n",
    "    for line in f:\n",
    "        idx, label = line.strip().split('\\t')\n",
    "        label_map[int(idx)] = label\n",
    "\n",
    "# Step 4: Define dataset class\n",
    "tokenizer = RobertaTokenizer.from_pretrained(\"roberta-base\")\n",
    "\n",
    "class TextDataset(Dataset):\n",
    "    def __init__(self, dataframe, tokenizer, is_test=False):\n",
    "        self.tokenizer = tokenizer\n",
    "        self.data = dataframe\n",
    "        self.is_test = is_test\n",
    "\n",
    "    def __len__(self):\n",
    "        return len(self.data)\n",
    "\n",
    "    def __getitem__(self, idx):\n",
    "        file_path = self.data.iloc[idx]['file']\n",
    "        with open(file_path, 'r', encoding='utf-8', errors='ignore') as f:\n",
    "            text = f.read()\n",
    "\n",
    "        encoding = self.tokenizer(\n",
    "            text,\n",
    "            padding='max_length',\n",
    "            truncation=True,\n",
    "            max_length=512,\n",
    "            return_tensors='pt'\n",
    "        )\n",
    "\n",
    "        item = {key: val.squeeze(0) for key, val in encoding.items()}\n",
    "\n",
    "        if not self.is_test:\n",
    "            item['labels'] = int(self.data.iloc[idx]['label'])\n",
    "        else:\n",
    "            item['file'] = file_path\n",
    "\n",
    "        return item\n",
    "\n",
    "# Step 5: Prepare datasets\n",
    "train_dataset = TextDataset(train_labels, tokenizer)\n",
    "test_dataset = TextDataset(test_df, tokenizer, is_test=True)\n",
    "\n",
    "# Step 6: Define model and training setup\n",
    "model = RobertaForSequenceClassification.from_pretrained(\"roberta-base\", num_labels=2)\n",
    "\n",
    "training_args = TrainingArguments(\n",
    "    output_dir=\"./results\",\n",
    "    per_device_train_batch_size=8,\n",
    "    num_train_epochs=3,\n",
    "    logging_dir=\"./logs\",\n",
    "    logging_steps=10,\n",
    "    save_strategy=\"no\",\n",
    "    eval_strategy =\"no\",\n",
    "    report_to=\"none\"\n",
    ")\n",
    "\n",
    "trainer = Trainer(\n",
    "    model=model,\n",
    "    args=training_args,\n",
    "    train_dataset=train_dataset,\n",
    ")\n",
    "\n",
    "# Step 7: Train the model\n",
    "trainer.train()\n",
    "\n",
    "# Step 8: Predict on test data\n",
    "model.eval()\n",
    "test_loader = DataLoader(test_dataset, batch_size=8)\n",
    "\n",
    "all_predictions = []\n",
    "\n",
    "for batch in tqdm(test_loader, desc=\"Predicting\"):\n",
    "    input_ids = batch['input_ids']\n",
    "    attention_mask = batch['attention_mask']\n",
    "\n",
    "    with torch.no_grad():\n",
    "        outputs = model(input_ids=input_ids, attention_mask=attention_mask)\n",
    "        probs = torch.softmax(outputs.logits, dim=1)\n",
    "        preds = torch.argmax(probs, dim=1)\n",
    "\n",
    "    for file, pred in zip(batch['file'], preds):\n",
    "        all_predictions.append({\n",
    "            'file': os.path.basename(file),\n",
    "            'prediction': pred.item(),\n",
    "            'label_name': label_map[pred.item()]\n",
    "        })\n",
    "\n",
    "# Step 9: Export predictions to CSV\n",
    "pred_df = pd.DataFrame(all_predictions)"
   ]
  }
 ],
 "metadata": {
  "kernelspec": {
   "display_name": "lab_5_venv",
   "language": "python",
   "name": "python3"
  },
  "language_info": {
   "codemirror_mode": {
    "name": "ipython",
    "version": 3
   },
   "file_extension": ".py",
   "mimetype": "text/x-python",
   "name": "python",
   "nbconvert_exporter": "python",
   "pygments_lexer": "ipython3",
   "version": "3.10.11"
  }
 },
 "nbformat": 4,
 "nbformat_minor": 5
}
